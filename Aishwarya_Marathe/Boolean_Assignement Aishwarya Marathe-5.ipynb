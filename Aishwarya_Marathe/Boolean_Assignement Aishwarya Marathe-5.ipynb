{
 "cells": [
  {
   "cell_type": "code",
   "execution_count": 6,
   "metadata": {
    "id": "7JIFn6BP4M0R"
   },
   "outputs": [
    {
     "name": "stdout",
     "output_type": "stream",
     "text": [
      "<class 'bool'>\n",
      "140727765165904\n"
     ]
    }
   ],
   "source": [
    "#Declare a boolean value and store it in a variable. \n",
    "a= bool(True)\n",
    "\n",
    "\n",
    "#Check the type and print the id of the same.\n",
    "print(type(a))\n",
    "print(id(a))\n",
    "\n"
   ]
  },
  {
   "cell_type": "code",
   "execution_count": 8,
   "metadata": {
    "id": "o9bjjhN64kAP"
   },
   "outputs": [
    {
     "name": "stdout",
     "output_type": "stream",
     "text": [
      "True\n",
      "140727765165904\n",
      "140727765165904\n"
     ]
    }
   ],
   "source": [
    "#Take one boolean value between 0 - 256.\n",
    "#Assign it to two different variables.\n",
    "a= bool(2)\n",
    "b= bool(2)\n",
    "\n",
    "#Check the id of both the variables. It should come same. Check why? \n",
    "print(a is b)\n",
    "print(id(a))\n",
    "print(id(b))\n",
    "#Bool values are object reusable"
   ]
  },
  {
   "cell_type": "code",
   "execution_count": 11,
   "metadata": {
    "id": "yr4ETGSf4l5y"
   },
   "outputs": [
    {
     "name": "stdout",
     "output_type": "stream",
     "text": [
      "Sum is  2\n",
      "Diff is  0\n",
      "Product is  1\n",
      "Division is  1.0\n",
      "Remainder is  0\n",
      "Quotient is  1\n",
      "Exponent is  1\n"
     ]
    }
   ],
   "source": [
    "#Arithmatic Operations on boolean data\n",
    "#Take two different boolean values.\n",
    "#Store them in two different variables.\n",
    "a= bool(2)\n",
    "b= bool(2)\n",
    "\n",
    "\n",
    "#Do below operations on them:-\n",
    "    #Find sum of both values\n",
    "print('Sum is ', a+b)\n",
    "\n",
    "\n",
    "    #Find differce between them\n",
    "print('Diff is ', a-b)\n",
    "\n",
    "\n",
    "    #Find the product of both.\n",
    "print('Product is ', a*b)\n",
    "\n",
    "\n",
    "    #Find value after dividing first value with second value\n",
    "print('Division is ', a/b) \n",
    "\n",
    "    \n",
    "    #Find the remainder after dividing first value with second value\n",
    "print('Remainder is ', a%b)   \n",
    "\n",
    "    \n",
    "    #Find the quotient after dividing first value with second value\n",
    "print('Quotient is ', a//b)    \n",
    "\n",
    "    \n",
    "    #Find the result of first value to the power of second value.\n",
    "print('Exponent is ', a**b)         "
   ]
  },
  {
   "cell_type": "code",
   "execution_count": 12,
   "metadata": {
    "id": "xG4mX84E4n2O"
   },
   "outputs": [
    {
     "name": "stdout",
     "output_type": "stream",
     "text": [
      "False\n",
      "False\n",
      "True\n",
      "True\n"
     ]
    }
   ],
   "source": [
    "#Comparison Operators on boolean values\n",
    "#Take two different boolean values.\n",
    "#Store them in two different variables.\n",
    "a= bool(2)\n",
    "b= bool(5)\n",
    "\n",
    "\n",
    "#Do below operations on them:-\n",
    "    #Compare these two values with below operator:-\n",
    "        #Greater than, '>'\n",
    "print(a>b)\n",
    "\n",
    "\n",
    "        #less than, '<'\n",
    "print(a<b)\n",
    "\n",
    "        #Greater than or equal to, '>='\n",
    "print(a>=b)\n",
    "\n",
    "        #Less than or equal to, '<='    \n",
    "print(a<=b)\n",
    "\n",
    "#Observe their output(return type should be boolean)\n",
    "\n",
    "\n",
    "\n",
    "\n",
    "\n",
    "\n",
    "\n",
    "\n"
   ]
  },
  {
   "cell_type": "code",
   "execution_count": 13,
   "metadata": {
    "id": "TUIo2Z9V4qBJ"
   },
   "outputs": [
    {
     "name": "stdout",
     "output_type": "stream",
     "text": [
      "True\n",
      "False\n"
     ]
    }
   ],
   "source": [
    "#Equality Operator\n",
    "#Take two different boolean values.\n",
    "#Store them in two different variables.\n",
    "a= bool(2)\n",
    "b= bool(5)\n",
    "\n",
    "\n",
    "#Equuate them using equality operator (==, !=)\n",
    "print(a==b)\n",
    "print(a!=b)\n",
    "\n",
    "#Observe the output(return type should be boolean)\n",
    "\n",
    "\n",
    "\n",
    "\n",
    "\n",
    "\n"
   ]
  },
  {
   "cell_type": "code",
   "execution_count": 14,
   "metadata": {
    "id": "XukEq5E44rxv"
   },
   "outputs": [
    {
     "name": "stdout",
     "output_type": "stream",
     "text": [
      "True\n",
      "False\n",
      "False\n",
      "False\n",
      "True\n",
      "True\n",
      "True\n",
      "False\n",
      "False\n",
      "True\n"
     ]
    }
   ],
   "source": [
    "#Logical operators\n",
    "#Observe the output of below code\n",
    "#Cross check the output manually\n",
    "\n",
    "print(True and True)        #----------------------------------------->Output is True\n",
    "print(False and True)        #----------------------------------------->Output is False\n",
    "print(True and False)        #----------------------------------------->Output is False\n",
    "print(False and False)       #----------------------------------------->Output is False\n",
    "\n",
    "print(True or True)          #----------------------------------------->Output is True\n",
    "print(False or True)         #----------------------------------------->Output is True\n",
    "print(True or False)         #----------------------------------------->Output is True\n",
    "print(False or False)        #----------------------------------------->Output is False\n",
    "\n",
    "print(not True)              #----------------------------------------->Output is False\n",
    "print(not False)             #----------------------------------------->Output is True"
   ]
  },
  {
   "cell_type": "code",
   "execution_count": 16,
   "metadata": {
    "id": "02jPgt094vK-"
   },
   "outputs": [
    {
     "name": "stdout",
     "output_type": "stream",
     "text": [
      "True\n",
      "True\n",
      "True\n",
      "-2\n",
      "4\n",
      "0\n"
     ]
    }
   ],
   "source": [
    "#Bitwise Operators\n",
    "#Do below operations on the values provided below:-\n",
    "    #Bitwise and(&) -----------------------------------------> True, True    -------> Output is True\n",
    "print(True and True)\n",
    "\n",
    "\n",
    "    #Bitwise or(|)  -----------------------------------------> True, False   -------> Output is True\n",
    "print(True or False)\n",
    "\n",
    "\n",
    "    #Bitwise(^)     -----------------------------------------> True, False   -------> Output is True\n",
    "print(True ^ False)\n",
    "  \n",
    "\n",
    "    #Bitwise negation(~) ------------------------------------> True          -------> Output is -2\n",
    "print(~True)\n",
    "   \n",
    "\n",
    "    #Bitwise left shift  ------------------------------------> True,2        -------> Output is 4\n",
    "print(True<<2)\n",
    "\n",
    "\n",
    "    #Bitwise right shift ------------------------------------> True,2        -------> Output is 0\n",
    "print(True>>2)\n",
    "\n",
    "\n",
    "#Cross check the output manually"
   ]
  },
  {
   "cell_type": "code",
   "execution_count": null,
   "metadata": {
    "id": "cy5i7sWz4v_c"
   },
   "outputs": [],
   "source": [
    "#What is the output of expression inside print statement. Cross check before running the program.\n",
    "a = True\n",
    "b = True\n",
    "print(a is b)          #True or False?   #True\n",
    "print(a is not b)      #True or False?   #False\n",
    "\n",
    "a = False\n",
    "b = False\n",
    "print(a is b)          #True or False?  #true\n",
    "print(a is not b)      #True or False?  #false\n"
   ]
  },
  {
   "cell_type": "code",
   "execution_count": 18,
   "metadata": {
    "id": "AOcPQi8544M-"
   },
   "outputs": [
    {
     "name": "stdout",
     "output_type": "stream",
     "text": [
      "True\n",
      "True\n",
      "True\n",
      "True\n",
      "True\n"
     ]
    }
   ],
   "source": [
    "#Membership operation\n",
    "#in, not in are two membership operators and it returns boolean value\n",
    "\n",
    "print(True in [10,10.20,10+20j,'Python', True])\n",
    "print(False in (10,10.20,10+20j,'Python', False))\n",
    "print(True in {1,2,3, True})\n",
    "print(True in {True:100, False:200, True:300})\n",
    "print(False in {True:100, False:200, True:300})"
   ]
  },
  {
   "cell_type": "code",
   "execution_count": null,
   "metadata": {
    "id": "MPa1Lpco46Ja"
   },
   "outputs": [],
   "source": []
  }
 ],
 "metadata": {
  "colab": {
   "name": "Boolean_Assignement.ipynb",
   "provenance": []
  },
  "kernelspec": {
   "display_name": "Python 3",
   "language": "python",
   "name": "python3"
  },
  "language_info": {
   "codemirror_mode": {
    "name": "ipython",
    "version": 3
   },
   "file_extension": ".py",
   "mimetype": "text/x-python",
   "name": "python",
   "nbconvert_exporter": "python",
   "pygments_lexer": "ipython3",
   "version": "3.8.3"
  }
 },
 "nbformat": 4,
 "nbformat_minor": 1
}
